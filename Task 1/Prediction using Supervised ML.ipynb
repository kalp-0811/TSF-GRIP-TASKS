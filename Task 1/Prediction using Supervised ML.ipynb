{
  "nbformat": 4,
  "nbformat_minor": 0,
  "metadata": {
    "kernelspec": {
      "display_name": "Python 3",
      "language": "python",
      "name": "python3"
    },
    "language_info": {
      "codemirror_mode": {
        "name": "ipython",
        "version": 3
      },
      "file_extension": ".py",
      "mimetype": "text/x-python",
      "name": "python",
      "nbconvert_exporter": "python",
      "pygments_lexer": "ipython3",
      "version": "3.7.3"
    },
    "colab": {
      "name": "Prediction using Supervised ML.ipynb",
      "provenance": []
    }
  },
  "cells": [
    {
      "cell_type": "markdown",
      "metadata": {
        "id": "I4GEkmlbnYne"
      },
      "source": [
        "## Score Prediction Model\n",
        "What will be predicted score if a student study for 9.25 hrs in a day?\n",
        "In this task we will predict the percentage of marks using linear regression that a student is expected to score based upon the number of hours they studied. This is a simple linear regression task as it involves just two variables.\n"
      ]
    },
    {
      "cell_type": "code",
      "metadata": {
        "id": "MabFdSnznYnj"
      },
      "source": [
        "# Loading neccesary libraries:\n",
        "import pandas as pd\n",
        "import numpy as np\n",
        "import matplotlib.pyplot as plt\n",
        "import seaborn as sns\n",
        "from sklearn import metrics"
      ],
      "execution_count": 1,
      "outputs": []
    },
    {
      "cell_type": "code",
      "metadata": {
        "colab": {
          "base_uri": "https://localhost:8080/",
          "height": 212
        },
        "id": "J0SEq4RTnYnk",
        "outputId": "55d98de2-a621-44fa-ed9e-9fbb49f9d6cf"
      },
      "source": [
        "#Reading the data from link:\n",
        "url = \"http://bit.ly/w-data\"\n",
        "data = pd.read_csv(url)\n",
        "\n",
        "#Print that data imported successfully\n",
        "print(\"Data imported successfully\")\n",
        "data.head()"
      ],
      "execution_count": 2,
      "outputs": [
        {
          "output_type": "stream",
          "text": [
            "Data imported successfully\n"
          ],
          "name": "stdout"
        },
        {
          "output_type": "execute_result",
          "data": {
            "text/html": [
              "<div>\n",
              "<style scoped>\n",
              "    .dataframe tbody tr th:only-of-type {\n",
              "        vertical-align: middle;\n",
              "    }\n",
              "\n",
              "    .dataframe tbody tr th {\n",
              "        vertical-align: top;\n",
              "    }\n",
              "\n",
              "    .dataframe thead th {\n",
              "        text-align: right;\n",
              "    }\n",
              "</style>\n",
              "<table border=\"1\" class=\"dataframe\">\n",
              "  <thead>\n",
              "    <tr style=\"text-align: right;\">\n",
              "      <th></th>\n",
              "      <th>Hours</th>\n",
              "      <th>Scores</th>\n",
              "    </tr>\n",
              "  </thead>\n",
              "  <tbody>\n",
              "    <tr>\n",
              "      <th>0</th>\n",
              "      <td>2.5</td>\n",
              "      <td>21</td>\n",
              "    </tr>\n",
              "    <tr>\n",
              "      <th>1</th>\n",
              "      <td>5.1</td>\n",
              "      <td>47</td>\n",
              "    </tr>\n",
              "    <tr>\n",
              "      <th>2</th>\n",
              "      <td>3.2</td>\n",
              "      <td>27</td>\n",
              "    </tr>\n",
              "    <tr>\n",
              "      <th>3</th>\n",
              "      <td>8.5</td>\n",
              "      <td>75</td>\n",
              "    </tr>\n",
              "    <tr>\n",
              "      <th>4</th>\n",
              "      <td>3.5</td>\n",
              "      <td>30</td>\n",
              "    </tr>\n",
              "  </tbody>\n",
              "</table>\n",
              "</div>"
            ],
            "text/plain": [
              "   Hours  Scores\n",
              "0    2.5      21\n",
              "1    5.1      47\n",
              "2    3.2      27\n",
              "3    8.5      75\n",
              "4    3.5      30"
            ]
          },
          "metadata": {
            "tags": []
          },
          "execution_count": 2
        }
      ]
    },
    {
      "cell_type": "code",
      "metadata": {
        "colab": {
          "base_uri": "https://localhost:8080/",
          "height": 284
        },
        "id": "FrBcOi6BnYnm",
        "outputId": "76016089-5f0b-49c5-ea59-83114ee55159"
      },
      "source": [
        "# Describing the data\n",
        "data.describe()"
      ],
      "execution_count": 3,
      "outputs": [
        {
          "output_type": "execute_result",
          "data": {
            "text/html": [
              "<div>\n",
              "<style scoped>\n",
              "    .dataframe tbody tr th:only-of-type {\n",
              "        vertical-align: middle;\n",
              "    }\n",
              "\n",
              "    .dataframe tbody tr th {\n",
              "        vertical-align: top;\n",
              "    }\n",
              "\n",
              "    .dataframe thead th {\n",
              "        text-align: right;\n",
              "    }\n",
              "</style>\n",
              "<table border=\"1\" class=\"dataframe\">\n",
              "  <thead>\n",
              "    <tr style=\"text-align: right;\">\n",
              "      <th></th>\n",
              "      <th>Hours</th>\n",
              "      <th>Scores</th>\n",
              "    </tr>\n",
              "  </thead>\n",
              "  <tbody>\n",
              "    <tr>\n",
              "      <th>count</th>\n",
              "      <td>25.000000</td>\n",
              "      <td>25.000000</td>\n",
              "    </tr>\n",
              "    <tr>\n",
              "      <th>mean</th>\n",
              "      <td>5.012000</td>\n",
              "      <td>51.480000</td>\n",
              "    </tr>\n",
              "    <tr>\n",
              "      <th>std</th>\n",
              "      <td>2.525094</td>\n",
              "      <td>25.286887</td>\n",
              "    </tr>\n",
              "    <tr>\n",
              "      <th>min</th>\n",
              "      <td>1.100000</td>\n",
              "      <td>17.000000</td>\n",
              "    </tr>\n",
              "    <tr>\n",
              "      <th>25%</th>\n",
              "      <td>2.700000</td>\n",
              "      <td>30.000000</td>\n",
              "    </tr>\n",
              "    <tr>\n",
              "      <th>50%</th>\n",
              "      <td>4.800000</td>\n",
              "      <td>47.000000</td>\n",
              "    </tr>\n",
              "    <tr>\n",
              "      <th>75%</th>\n",
              "      <td>7.400000</td>\n",
              "      <td>75.000000</td>\n",
              "    </tr>\n",
              "    <tr>\n",
              "      <th>max</th>\n",
              "      <td>9.200000</td>\n",
              "      <td>95.000000</td>\n",
              "    </tr>\n",
              "  </tbody>\n",
              "</table>\n",
              "</div>"
            ],
            "text/plain": [
              "           Hours     Scores\n",
              "count  25.000000  25.000000\n",
              "mean    5.012000  51.480000\n",
              "std     2.525094  25.286887\n",
              "min     1.100000  17.000000\n",
              "25%     2.700000  30.000000\n",
              "50%     4.800000  47.000000\n",
              "75%     7.400000  75.000000\n",
              "max     9.200000  95.000000"
            ]
          },
          "metadata": {
            "tags": []
          },
          "execution_count": 3
        }
      ]
    },
    {
      "cell_type": "markdown",
      "metadata": {
        "id": "BpIhc7USnYnn"
      },
      "source": [
        "## - Data Cleaning:\n",
        "**Checking for null values**"
      ]
    },
    {
      "cell_type": "code",
      "metadata": {
        "colab": {
          "base_uri": "https://localhost:8080/"
        },
        "id": "tJhVzajGnYnn",
        "outputId": "28617edc-e366-4c6b-cd6f-9ab9258e92bd"
      },
      "source": [
        "data.isnull().sum()"
      ],
      "execution_count": 4,
      "outputs": [
        {
          "output_type": "execute_result",
          "data": {
            "text/plain": [
              "Hours     0\n",
              "Scores    0\n",
              "dtype: int64"
            ]
          },
          "metadata": {
            "tags": []
          },
          "execution_count": 4
        }
      ]
    },
    {
      "cell_type": "markdown",
      "metadata": {
        "id": "uD6fl36unYno"
      },
      "source": [
        "In this dataset, there are **no null values**. So, data cleaning is not required for the dataset."
      ]
    },
    {
      "cell_type": "markdown",
      "metadata": {
        "id": "cwLOZvLonYnp"
      },
      "source": [
        "## - Data Visualization:\n",
        "Let's plot this data that we have on 2-D graph to eyeball our dataset and see if we can manually find any kind of relationship between the two parameters- **Hours** and **Scores**."
      ]
    },
    {
      "cell_type": "code",
      "metadata": {
        "colab": {
          "base_uri": "https://localhost:8080/",
          "height": 295
        },
        "id": "Bn3QdBqYnYnq",
        "outputId": "8ee01d9a-2507-4047-9237-84738d0deca8"
      },
      "source": [
        "# Plotting the graph\n",
        "# x-axis values \n",
        "x = data['Hours']\n",
        "# y-axis values \n",
        "y = data['Scores']\n",
        "\n",
        "# plotting points as a scatter plot \n",
        "plt.scatter(x, y, label= \"Data points\", marker= \"o\", s=30) \n",
        "\n",
        "# x-axis label \n",
        "plt.xlabel('Hours studied') \n",
        "# frequency label \n",
        "plt.ylabel('Student Scores') \n",
        "# plot title \n",
        "plt.title('Hours vs Scores') \n",
        "# showing grid\n",
        "plt.grid(color='#e9ebe4', linestyle='-', linewidth=2)\n",
        "plt.rcParams['axes.facecolor'] = '#ffffff'\n",
        "plt.legend()\n",
        "# function to show the plot \n",
        "plt.show()"
      ],
      "execution_count": 5,
      "outputs": [
        {
          "output_type": "display_data",
          "data": {
            "image/png": "[encoded data removed]",
            "text/plain": [
              "<Figure size 432x288 with 1 Axes>"
            ]
          },
          "metadata": {
            "tags": [],
            "needs_background": "light"
          }
        }
      ]
    },
    {
      "cell_type": "code",
      "metadata": {
        "colab": {
          "base_uri": "https://localhost:8080/",
          "height": 378
        },
        "id": "jGYF0qTPnYns",
        "outputId": "fb5e79e7-5d49-4b4a-e822-30417f69725f"
      },
      "source": [
        "#To find the corelation between the number of hours studied and scores obtained\n",
        "relation = data.corr()\n",
        "fig, ax = plt.subplots(figsize=(6, 6))\n",
        "sns.heatmap(relation, annot=True, cmap='Oranges',ax=ax) \n",
        "plt.show() "
      ],
      "execution_count": 6,
      "outputs": [
        {
          "output_type": "display_data",
          "data": {
            "image/png": "[encoded data removed]",
            "text/plain": [
              "<Figure size 432x432 with 2 Axes>"
            ]
          },
          "metadata": {
            "tags": [],
            "needs_background": "light"
          }
        }
      ]
    },
    {
      "cell_type": "markdown",
      "metadata": {
        "id": "OMEHDUk5nYnt"
      },
      "source": [
        "From the graph we can refer that there is **98%** corelation between **Hours** & **Scores**"
      ]
    },
    {
      "cell_type": "markdown",
      "metadata": {
        "id": "7-qieW0hnYnt"
      },
      "source": [
        "## - Preparing the data:"
      ]
    },
    {
      "cell_type": "markdown",
      "metadata": {
        "id": "i2ooHvahnYnu"
      },
      "source": [
        "**Segregation of the data for training and testing**"
      ]
    },
    {
      "cell_type": "code",
      "metadata": {
        "id": "47dv7knvnYnu"
      },
      "source": [
        "# Classification of the data:\n",
        "X = data.iloc[:, :-1].values  \n",
        "y = data.iloc[:, 1].values "
      ],
      "execution_count": 7,
      "outputs": []
    },
    {
      "cell_type": "code",
      "metadata": {
        "id": "7aahnOr-nYnv"
      },
      "source": [
        "# Spliting the data for training and testing\n",
        "from sklearn.model_selection import train_test_split \n",
        "X_train, X_test, y_train, y_test = train_test_split(X, y, \n",
        "                                    test_size=0.2, random_state=0)"
      ],
      "execution_count": 8,
      "outputs": []
    },
    {
      "cell_type": "markdown",
      "metadata": {
        "id": "OjbfhNtYnYnv"
      },
      "source": [
        "**Training the data using Linear Regression Algorithm**"
      ]
    },
    {
      "cell_type": "code",
      "metadata": {
        "colab": {
          "base_uri": "https://localhost:8080/"
        },
        "id": "E5LUyxi_nYnw",
        "outputId": "bf6600a7-1dbe-4eba-dfc9-944f74f87a37"
      },
      "source": [
        "# Fitting the data in the model\n",
        "from sklearn.linear_model import LinearRegression  \n",
        "model = LinearRegression()  \n",
        "model.fit(X_train, y_train)"
      ],
      "execution_count": 9,
      "outputs": [
        {
          "output_type": "execute_result",
          "data": {
            "text/plain": [
              "LinearRegression(copy_X=True, fit_intercept=True, n_jobs=None, normalize=False)"
            ]
          },
          "metadata": {
            "tags": []
          },
          "execution_count": 9
        }
      ]
    },
    {
      "cell_type": "code",
      "metadata": {
        "colab": {
          "base_uri": "https://localhost:8080/"
        },
        "id": "n8fpZke-nYnw",
        "outputId": "91277354-1e66-47ad-9ee3-ea551553aad9"
      },
      "source": [
        "print (\"Coefficient -\", model.coef_)\n",
        "print (\"Intercept - \", model.intercept_)"
      ],
      "execution_count": 10,
      "outputs": [
        {
          "output_type": "stream",
          "text": [
            "Coefficient - [9.91065648]\n",
            "Intercept -  2.018160041434662\n"
          ],
          "name": "stdout"
        }
      ]
    },
    {
      "cell_type": "code",
      "metadata": {
        "colab": {
          "base_uri": "https://localhost:8080/",
          "height": 282
        },
        "id": "bzKzHzQJnYny",
        "outputId": "36d8afc2-149b-4720-faea-99fd15030ddb"
      },
      "source": [
        "# Plotting the Linear regression line\n",
        "line = model.coef_ * x + model.intercept_\n",
        "\n",
        "# Plotting for the test data\n",
        "plt.rcParams['axes.facecolor'] = '#d3d8e8'\n",
        "plt.scatter(x, y, color='#5370c9',label='scatter plot')\n",
        "plt.plot(x, line, color='#13255c', label='regression line')\n",
        "plt.legend()\n",
        "plt.show()\n",
        "model.coef_,model.intercept_"
      ],
      "execution_count": 11,
      "outputs": [
        {
          "output_type": "display_data",
          "data": {
            "image/png": "[encoded data removed]",
            "text/plain": [
              "<Figure size 432x288 with 1 Axes>"
            ]
          },
          "metadata": {
            "tags": [],
            "needs_background": "light"
          }
        },
        {
          "output_type": "execute_result",
          "data": {
            "text/plain": [
              "(array([9.91065648]), 2.018160041434662)"
            ]
          },
          "metadata": {
            "tags": []
          },
          "execution_count": 11
        }
      ]
    },
    {
      "cell_type": "markdown",
      "metadata": {
        "id": "weH0nMnjnYny"
      },
      "source": [
        "## Making Predictions:\n",
        "Now, we have trained our algorithm, it's time to make some predictions."
      ]
    },
    {
      "cell_type": "code",
      "metadata": {
        "colab": {
          "base_uri": "https://localhost:8080/"
        },
        "id": "UuB-Fb9ynYnz",
        "outputId": "6af8bdc6-3a5f-49d7-bc5d-a51d401c77d8"
      },
      "source": [
        "# Predicting the scores\n",
        "y_pred = model.predict(X_test)\n",
        "y_pred"
      ],
      "execution_count": 12,
      "outputs": [
        {
          "output_type": "execute_result",
          "data": {
            "text/plain": [
              "array([16.88414476, 33.73226078, 75.357018  , 26.79480124, 60.49103328])"
            ]
          },
          "metadata": {
            "tags": []
          },
          "execution_count": 12
        }
      ]
    },
    {
      "cell_type": "code",
      "metadata": {
        "colab": {
          "base_uri": "https://localhost:8080/",
          "height": 195
        },
        "id": "3uU8wIb-nYn0",
        "outputId": "61f319b8-7730-451d-c3de-3d32fedfafe3"
      },
      "source": [
        "# Comparing Actual vs Predicted\n",
        "compare_df = pd.DataFrame({'Actual': y_test, 'Predicted': y_pred})  \n",
        "compare_df"
      ],
      "execution_count": 13,
      "outputs": [
        {
          "output_type": "execute_result",
          "data": {
            "text/html": [
              "<div>\n",
              "<style scoped>\n",
              "    .dataframe tbody tr th:only-of-type {\n",
              "        vertical-align: middle;\n",
              "    }\n",
              "\n",
              "    .dataframe tbody tr th {\n",
              "        vertical-align: top;\n",
              "    }\n",
              "\n",
              "    .dataframe thead th {\n",
              "        text-align: right;\n",
              "    }\n",
              "</style>\n",
              "<table border=\"1\" class=\"dataframe\">\n",
              "  <thead>\n",
              "    <tr style=\"text-align: right;\">\n",
              "      <th></th>\n",
              "      <th>Actual</th>\n",
              "      <th>Predicted</th>\n",
              "    </tr>\n",
              "  </thead>\n",
              "  <tbody>\n",
              "    <tr>\n",
              "      <th>0</th>\n",
              "      <td>20</td>\n",
              "      <td>16.884145</td>\n",
              "    </tr>\n",
              "    <tr>\n",
              "      <th>1</th>\n",
              "      <td>27</td>\n",
              "      <td>33.732261</td>\n",
              "    </tr>\n",
              "    <tr>\n",
              "      <th>2</th>\n",
              "      <td>69</td>\n",
              "      <td>75.357018</td>\n",
              "    </tr>\n",
              "    <tr>\n",
              "      <th>3</th>\n",
              "      <td>30</td>\n",
              "      <td>26.794801</td>\n",
              "    </tr>\n",
              "    <tr>\n",
              "      <th>4</th>\n",
              "      <td>62</td>\n",
              "      <td>60.491033</td>\n",
              "    </tr>\n",
              "  </tbody>\n",
              "</table>\n",
              "</div>"
            ],
            "text/plain": [
              "   Actual  Predicted\n",
              "0      20  16.884145\n",
              "1      27  33.732261\n",
              "2      69  75.357018\n",
              "3      30  26.794801\n",
              "4      62  60.491033"
            ]
          },
          "metadata": {
            "tags": []
          },
          "execution_count": 13
        }
      ]
    },
    {
      "cell_type": "code",
      "metadata": {
        "colab": {
          "base_uri": "https://localhost:8080/",
          "height": 353
        },
        "id": "vo41rQ2XnYn0",
        "outputId": "8820c0d8-1bf1-4257-a65a-faabd181a6b9"
      },
      "source": [
        "# Comparing Actual vs Predicted score through bar plot\n",
        "l = []\n",
        "for i in y_test:\n",
        "  l.append(i)\n",
        "for i in y_pred:\n",
        "  l.append(i)\n",
        "l = np.array(l)\n",
        "l = l.reshape(2,5)\n",
        "data = l\n",
        "X = np.arange(5)\n",
        "fig = plt.figure()\n",
        "plt.rcParams['axes.facecolor'] = '#d3d8e8'\n",
        "ax = fig.add_axes([0,0,1,1])\n",
        "ax.bar(X + 0.00, data[0], color = '#5370c9', width = 0.25, label='Actual Score')\n",
        "ax.bar(X + 0.25, data[1], color = '#13255c', width = 0.25, label='Predicted Score')\n",
        "plt.legend()"
      ],
      "execution_count": 15,
      "outputs": [
        {
          "output_type": "execute_result",
          "data": {
            "text/plain": [
              "<matplotlib.legend.Legend at 0x7ff133740210>"
            ]
          },
          "metadata": {
            "tags": []
          },
          "execution_count": 15
        },
        {
          "output_type": "display_data",
          "data": {
            "image/png": "[encoded data removed]",
            "text/plain": [
              "<Figure size 432x288 with 1 Axes>"
            ]
          },
          "metadata": {
            "tags": [],
            "needs_background": "light"
          }
        }
      ]
    },
    {
      "cell_type": "code",
      "metadata": {
        "colab": {
          "base_uri": "https://localhost:8080/"
        },
        "id": "2Ukbrv_4nYn1",
        "outputId": "be843a3c-dcc8-414f-dc2d-39bba5722dde"
      },
      "source": [
        "#Accuracy of training and testing data\n",
        "print(f'The train score:  {model.score(X_train,y_train)}')\n",
        "print(f'The test score:   {model.score(X_test,y_test)}')"
      ],
      "execution_count": 16,
      "outputs": [
        {
          "output_type": "stream",
          "text": [
            "The train score:  0.9515510725211553\n",
            "The test score:   0.9454906892105354\n"
          ],
          "name": "stdout"
        }
      ]
    },
    {
      "cell_type": "code",
      "metadata": {
        "colab": {
          "base_uri": "https://localhost:8080/"
        },
        "id": "V-rX6pUQnYn2",
        "outputId": "5af4c1aa-5ed0-4574-b4ea-55b0887fd2f9"
      },
      "source": [
        "# Testing with some new data\n",
        "hours = 9.25\n",
        "test = np.array([hours])\n",
        "test = test.reshape(-1, 1)\n",
        "own_pred = model.predict(test)\n",
        "print(\"No of Hours = {}\".format(hours))\n",
        "print(\"Predicted Score = {}\".format(own_pred[0]))"
      ],
      "execution_count": 17,
      "outputs": [
        {
          "output_type": "stream",
          "text": [
            "No of Hours = 9.25\n",
            "Predicted Score = 93.69173248737539\n"
          ],
          "name": "stdout"
        }
      ]
    },
    {
      "cell_type": "markdown",
      "metadata": {
        "id": "be45SDCinYn3"
      },
      "source": [
        "### - Evaluating the Model:\n",
        "The final step is to evaluate the performance of algorithm.This step is particularly important to compare how well different<br>\n",
        "algorithms perform on a particular dataset."
      ]
    },
    {
      "cell_type": "code",
      "metadata": {
        "colab": {
          "base_uri": "https://localhost:8080/"
        },
        "id": "QrQNLNtlnYn3",
        "outputId": "97bcabcc-fe60-4907-b25b-4436b73f9e81"
      },
      "source": [
        "print('Mean Absolute Error:',metrics.mean_absolute_error(y_test, y_pred)) \n",
        "print('Mean Squared Error:', metrics.mean_squared_error(y_test, y_pred))\n",
        "print('Root Mean Squared Error:', np.sqrt(metrics.mean_squared_error(y_test, y_pred)))\n",
        "print('R-2:', metrics.r2_score(y_test, y_pred))"
      ],
      "execution_count": 18,
      "outputs": [
        {
          "output_type": "stream",
          "text": [
            "Mean Absolute Error: 4.183859899002982\n",
            "Mean Squared Error: 21.598769307217456\n",
            "Root Mean Squared Error: 4.647447612100373\n",
            "R-2: 0.9454906892105354\n"
          ],
          "name": "stdout"
        }
      ]
    },
    {
      "cell_type": "markdown",
      "metadata": {
        "id": "VcBpHwGXnYn4"
      },
      "source": [
        "R-squared gives the goodness of the fit and as can be seen it is 94.5% which is really good. This means that the algorithm has proven to be good for the given data.\n",
        "\n",
        "It can also be said that the model's accuracy is 94.5%"
      ]
    },
    {
      "cell_type": "markdown",
      "metadata": {
        "id": "Mty98zsDnYn5"
      },
      "source": [
        "### - Conclusion:"
      ]
    },
    {
      "cell_type": "code",
      "metadata": {
        "colab": {
          "base_uri": "https://localhost:8080/"
        },
        "id": "rrKBr57mnYn5",
        "outputId": "c4784d70-83eb-4507-c958-e146825113c1"
      },
      "source": [
        "print('Linear Regression')\n",
        "print('Test accuracy: ',model.score(X_test, y_test))\n",
        "print('Predicted score for 9.25 hours: ',own_pred,'\\n')"
      ],
      "execution_count": 19,
      "outputs": [
        {
          "output_type": "stream",
          "text": [
            "Linear Regression\n",
            "Test accuracy:  0.9454906892105354\n",
            "Predicted score for 9.25 hours:  [93.69173249] \n",
            "\n"
          ],
          "name": "stdout"
        }
      ]
    }
  ]
}